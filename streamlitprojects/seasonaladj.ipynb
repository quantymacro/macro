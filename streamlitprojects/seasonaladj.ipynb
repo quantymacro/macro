{
 "cells": [
  {
   "cell_type": "code",
   "execution_count": 1,
   "metadata": {},
   "outputs": [],
   "source": [
    "import sys\n",
    "sys.path.append('../') \n",
    "try:\n",
    "    sys.path.remove('c:\\\\users\\\\wazir\\\\documents\\\\wazewww\\\\mlp')\n",
    "except:\n",
    "    pass\n",
    "import numpy as np\n",
    "import pandas as pd\n",
    "import time\n",
    "from sklearn.pipeline import make_pipeline\n",
    "from sklearn.preprocessing import StandardScaler\n",
    "from sklearn.linear_model import ElasticNet, Ridge\n",
    "from scipy.stats import zscore, mstats\n",
    "from constrained_linear_regression import ConstrainedLinearRegression\n",
    "from sklearn.metrics import mean_squared_error, mean_absolute_error, r2_score\n",
    "import matplotlib.pyplot as plt\n",
    "import seaborn as sns\n",
    "from matplotlib.colors import Normalize\n",
    "from matplotlib.cm import ScalarMappable\n",
    "from statsmodels.tsa import x13\n",
    "import quantutils.regression_utils as regutils\n",
    "import statsmodels.api as sm\n"
   ]
  },
  {
   "cell_type": "code",
   "execution_count": 11,
   "metadata": {},
   "outputs": [
    {
     "data": {
      "text/plain": [
       "[('r2', 0, -0.8327894887010159),\n",
       " ('mse', 0, 2.5766283898939593),\n",
       " ('mae', 0, 1.1881056292406413),\n",
       " ('corr', 0, -0.17287254614436906),\n",
       " ('hit_rate', 0, 0.2)]"
      ]
     },
     "execution_count": 11,
     "metadata": {},
     "output_type": "execute_result"
    }
   ],
   "source": [
    "date_range = pd.date_range('2010-01-01', periods=10)\n",
    "pred = pd.DataFrame(np.random.normal(size=10), index=date_range)\n",
    "target =  pd.Series(np.random.normal(size=10), index=date_range)\n",
    "regutils.calc_stats(pred, target)"
   ]
  },
  {
   "cell_type": "code",
   "execution_count": 31,
   "metadata": {},
   "outputs": [],
   "source": [
    "df = pd.read_excel('../Data/sample_data.xlsx', index_col=0, parse_dates=True)\n",
    "df = df.iloc[1:, :].astype(float)\n",
    "df.index = pd.to_datetime(df.index)"
   ]
  },
  {
   "cell_type": "code",
   "execution_count": 11,
   "metadata": {},
   "outputs": [],
   "source": [
    "dta = sm.datasets.co2.load_pandas().data\n",
    "dta.co2.interpolate(inplace=True)\n",
    "dta = dta.resample('M').sum()"
   ]
  },
  {
   "cell_type": "code",
   "execution_count": 34,
   "metadata": {},
   "outputs": [
    {
     "data": {
      "text/plain": [
       "<statsmodels.tsa.x13.X13ArimaAnalysisResult at 0x144fc06b340>"
      ]
     },
     "execution_count": 34,
     "metadata": {},
     "output_type": "execute_result"
    }
   ],
   "source": [
    "regutils.seasonal_adjustment(df['UTD@CPIDATA'].dropna())"
   ]
  }
 ],
 "metadata": {
  "kernelspec": {
   "display_name": "regtool",
   "language": "python",
   "name": "python3"
  },
  "language_info": {
   "codemirror_mode": {
    "name": "ipython",
    "version": 3
   },
   "file_extension": ".py",
   "mimetype": "text/x-python",
   "name": "python",
   "nbconvert_exporter": "python",
   "pygments_lexer": "ipython3",
   "version": "3.10.13"
  }
 },
 "nbformat": 4,
 "nbformat_minor": 2
}
