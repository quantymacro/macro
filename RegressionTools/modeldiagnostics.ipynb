{
 "cells": [
  {
   "cell_type": "code",
   "execution_count": 1,
   "metadata": {},
   "outputs": [],
   "source": [
    "import pandas as pd\n",
    "import numpy as np\n",
    "import quantutils.regression_utils as qu\n",
    "import quantutils.general_utils as genutils\n",
    "from quantutils.general_utils import get_df_regime_label\n",
    "import quantutils.streamlit_utils as stutils\n",
    "from functools import partial\n",
    "from tqdm.notebook import tqdm\n",
    "import plotly.express as px\n",
    "import plotly.graph_objs as go\n",
    "from copy import deepcopy\n",
    "from plotly.subplots import make_subplots\n",
    "from pathlib import Path\n",
    "import os\n",
    "from functools import partial\n",
    "%load_ext autoreload\n",
    "%autoreload 2"
   ]
  },
  {
   "cell_type": "code",
   "execution_count": 2,
   "metadata": {},
   "outputs": [],
   "source": [
    "model = genutils.load_object('test.pkl', 'C:/Users/Wazir/Documents/wazewww/MLP/RegressionTools/Models/CPIUSAMonthly_pct_change_3period/')"
   ]
  },
  {
   "cell_type": "code",
   "execution_count": 3,
   "metadata": {},
   "outputs": [],
   "source": [
    "df_X = deepcopy(model['X_dataframes'])\n",
    "df_X = df_X.dropna().iloc[0][0]\n",
    "fitted_model = deepcopy(model['fitted_models']).dropna().iloc[0][0]\n"
   ]
  },
  {
   "cell_type": "code",
   "execution_count": 4,
   "metadata": {},
   "outputs": [
    {
     "name": "stdout",
     "output_type": "stream",
     "text": [
      "0.011072604205515191\n"
     ]
    },
    {
     "name": "stderr",
     "output_type": "stream",
     "text": [
      "c:\\Users\\Wazir\\anaconda3\\envs\\regtool\\lib\\site-packages\\statsmodels\\tsa\\base\\tsa_model.py:473: ValueWarning: No frequency information was provided, so inferred frequency M will be used.\n",
      "  self._init_dates(dates, freq)\n",
      "c:\\Users\\Wazir\\anaconda3\\envs\\regtool\\lib\\site-packages\\statsmodels\\tsa\\deterministic.py:302: UserWarning: Only PeriodIndexes, DatetimeIndexes with a frequency set, RangesIndexes, and Index with a unit increment support extending. The index is set will contain the position relative to the data length.\n",
      "  fcast_index = self._extend_index(index, steps, forecast_index)\n",
      "c:\\Users\\Wazir\\anaconda3\\envs\\regtool\\lib\\site-packages\\statsmodels\\tsa\\base\\tsa_model.py:473: ValueWarning: No frequency information was provided, so inferred frequency M will be used.\n",
      "  self._init_dates(dates, freq)\n",
      "c:\\Users\\Wazir\\anaconda3\\envs\\regtool\\lib\\site-packages\\statsmodels\\tsa\\deterministic.py:302: UserWarning: Only PeriodIndexes, DatetimeIndexes with a frequency set, RangesIndexes, and Index with a unit increment support extending. The index is set will contain the position relative to the data length.\n",
      "  fcast_index = self._extend_index(index, steps, forecast_index)\n",
      "c:\\Users\\Wazir\\anaconda3\\envs\\regtool\\lib\\site-packages\\sklearn\\base.py:443: UserWarning: X has feature names, but ConstrainedLinearRegression was fitted without feature names\n",
      "  warnings.warn(\n",
      "c:\\Users\\Wazir\\anaconda3\\envs\\regtool\\lib\\site-packages\\sklearn\\base.py:443: UserWarning: X has feature names, but ConstrainedLinearRegression was fitted without feature names\n",
      "  warnings.warn(\n"
     ]
    },
    {
     "data": {
      "text/html": [
       "<div>\n",
       "<style scoped>\n",
       "    .dataframe tbody tr th:only-of-type {\n",
       "        vertical-align: middle;\n",
       "    }\n",
       "\n",
       "    .dataframe tbody tr th {\n",
       "        vertical-align: top;\n",
       "    }\n",
       "\n",
       "    .dataframe thead th {\n",
       "        text-align: right;\n",
       "    }\n",
       "</style>\n",
       "<table border=\"1\" class=\"dataframe\">\n",
       "  <thead>\n",
       "    <tr style=\"text-align: right;\">\n",
       "      <th></th>\n",
       "      <th>5yTreasuryMonthly_diff_3period_natlag1</th>\n",
       "      <th>PPIPassenger_CarsMonthly_pct_change_3period_natlag1</th>\n",
       "    </tr>\n",
       "    <tr>\n",
       "      <th>Date</th>\n",
       "      <th></th>\n",
       "      <th></th>\n",
       "    </tr>\n",
       "  </thead>\n",
       "  <tbody>\n",
       "    <tr>\n",
       "      <th>2007-06-30</th>\n",
       "      <td>-0.04</td>\n",
       "      <td>-0.003962</td>\n",
       "    </tr>\n",
       "    <tr>\n",
       "      <th>2007-07-31</th>\n",
       "      <td>0.55</td>\n",
       "      <td>-0.003157</td>\n",
       "    </tr>\n",
       "    <tr>\n",
       "      <th>2007-08-31</th>\n",
       "      <td>0.29</td>\n",
       "      <td>0.007183</td>\n",
       "    </tr>\n",
       "    <tr>\n",
       "      <th>2007-09-30</th>\n",
       "      <td>-0.24</td>\n",
       "      <td>0.004773</td>\n",
       "    </tr>\n",
       "    <tr>\n",
       "      <th>2007-10-31</th>\n",
       "      <td>-0.83</td>\n",
       "      <td>-0.020586</td>\n",
       "    </tr>\n",
       "  </tbody>\n",
       "</table>\n",
       "</div>"
      ],
      "text/plain": [
       "            5yTreasuryMonthly_diff_3period_natlag1  \\\n",
       "Date                                                 \n",
       "2007-06-30                                   -0.04   \n",
       "2007-07-31                                    0.55   \n",
       "2007-08-31                                    0.29   \n",
       "2007-09-30                                   -0.24   \n",
       "2007-10-31                                   -0.83   \n",
       "\n",
       "            PPIPassenger_CarsMonthly_pct_change_3period_natlag1  \n",
       "Date                                                             \n",
       "2007-06-30                                          -0.003962    \n",
       "2007-07-31                                          -0.003157    \n",
       "2007-08-31                                           0.007183    \n",
       "2007-09-30                                           0.004773    \n",
       "2007-10-31                                          -0.020586    "
      ]
     },
     "execution_count": 4,
     "metadata": {},
     "output_type": "execute_result"
    }
   ],
   "source": [
    "from statsmodels.tsa.ar_model import AutoReg\n",
    "from sklearn.linear_model import LinearRegression\n",
    "def forecast_ar4(series, t, ar_lag):\n",
    "    # Fit an AR(4) model\n",
    "    model = AutoReg(series, lags=ar_lag)\n",
    "    model_fit = model.fit()\n",
    "\n",
    "    # Forecast 't' time steps\n",
    "    forecast = model_fit.predict(start=len(series), end=len(series) + t - 1)\n",
    "    return forecast\n",
    "\n",
    "\n",
    "def get_naive_forecast(df_X, fitted_model, ar_lag, forecast_horizon=10):\n",
    "    df_Xc = df_X.copy()\n",
    "    partial_ar4 = partial(forecast_ar4, t=forecast_horizon, ar_lag=ar_lag)\n",
    "    df_X_extrapolated = df_X.apply(partial_ar4, axis=0)\n",
    "    one_step_pred = fitted_model.predict(df_X.iloc[-2:])[-1]\n",
    "    forecast_indx = df_X_extrapolated.index\n",
    "    predict_extrapolate = pd.Series(fitted_model.predict(df_X_extrapolated), index=forecast_indx, name='target_extrapolate')\n",
    "    predict_extrapolate.loc[df_X.index[-1]] = one_step_pred\n",
    "    return df_X_extrapolated, predict_extrapolate.sort_index()\n",
    "\n",
    "\n",
    "\n",
    "df_X_extrapolated, predict_extrapolate = get_naive_forecast(df_X, fitted_model, 4, 20)\n",
    "df_X.tail()"
   ]
  },
  {
   "cell_type": "code",
   "execution_count": 5,
   "metadata": {},
   "outputs": [
    {
     "data": {
      "text/plain": [
       "<Axes: >"
      ]
     },
     "execution_count": 5,
     "metadata": {},
     "output_type": "execute_result"
    },
    {
     "data": {
      "image/png": "[encoded data removed]",
      "text/plain": [
       "<Figure size 640x480 with 1 Axes>"
      ]
     },
     "metadata": {},
     "output_type": "display_data"
    }
   ],
   "source": [
    "predict_extrapolate.plot()"
   ]
  },
  {
   "cell_type": "code",
   "execution_count": 6,
   "metadata": {},
   "outputs": [],
   "source": [
    "from sklearn.metrics import mean_squared_error, mean_absolute_error, r2_score\n",
    "\n",
    "def generate_stats_table(regression_streamlit_state):\n",
    "    y_pred = regression_streamlit_state['df_coefs_dict']['predictions'].dropna()\n",
    "    y_true = regression_streamlit_state['df_transformed_lag'][regression_streamlit_state['selected_target']]\n",
    "    stats = [('r2', col, r2_score(y_true.loc[y_pred.index].values, y_pred[col])) for col in y_pred.columns]  + \\\n",
    "        [('mse', col, mean_squared_error(y_true.loc[y_pred.index].values, y_pred[col])) for col in y_pred.columns] + \\\n",
    "        [('mae', col, mean_absolute_error(y_true.loc[y_pred.index].values, y_pred[col])) for col in y_pred.columns] + \\\n",
    "        [('corr', col, np.corrcoef(y_true.loc[y_pred.index].values, y_pred[col].values)[0][1]) for col in y_pred.columns]\n",
    "        \n",
    "    df_stats = pd.DataFrame(stats, columns=['metrics', 'model', 'value'])\n",
    "    return df_stats\n"
   ]
  },
  {
   "cell_type": "code",
   "execution_count": 9,
   "metadata": {},
   "outputs": [
    {
     "data": {
      "text/html": [
       "<div>\n",
       "<style scoped>\n",
       "    .dataframe tbody tr th:only-of-type {\n",
       "        vertical-align: middle;\n",
       "    }\n",
       "\n",
       "    .dataframe tbody tr th {\n",
       "        vertical-align: top;\n",
       "    }\n",
       "\n",
       "    .dataframe thead th {\n",
       "        text-align: right;\n",
       "    }\n",
       "</style>\n",
       "<table border=\"1\" class=\"dataframe\">\n",
       "  <thead>\n",
       "    <tr style=\"text-align: right;\">\n",
       "      <th></th>\n",
       "      <th>PPIPassenger_CarsMonthly</th>\n",
       "      <th>ManheimUsedVehicleMonthly</th>\n",
       "      <th>CPIUNSAMonthly</th>\n",
       "      <th>CPIUNSAMonthly_pct_change_3period</th>\n",
       "      <th>PPIPassenger_CarsMonthly_pct_change_3period</th>\n",
       "      <th>ManheimUsedVehicleMonthly_pct_change_3period</th>\n",
       "      <th>PPIPassenger_CarsMonthly_natlag1</th>\n",
       "      <th>ManheimUsedVehicleMonthly_natlag1</th>\n",
       "      <th>CPIUNSAMonthly_natlag1</th>\n",
       "      <th>CPIUNSAMonthly_pct_change_3period_natlag1</th>\n",
       "      <th>PPIPassenger_CarsMonthly_pct_change_3period_natlag1</th>\n",
       "      <th>ManheimUsedVehicleMonthly_pct_change_3period_natlag1</th>\n",
       "    </tr>\n",
       "    <tr>\n",
       "      <th>Date</th>\n",
       "      <th></th>\n",
       "      <th></th>\n",
       "      <th></th>\n",
       "      <th></th>\n",
       "      <th></th>\n",
       "      <th></th>\n",
       "      <th></th>\n",
       "      <th></th>\n",
       "      <th></th>\n",
       "      <th></th>\n",
       "      <th></th>\n",
       "      <th></th>\n",
       "    </tr>\n",
       "  </thead>\n",
       "  <tbody>\n",
       "    <tr>\n",
       "      <th>2000-01-31</th>\n",
       "      <td>133.400</td>\n",
       "      <td>109.1</td>\n",
       "      <td>153.900</td>\n",
       "      <td>NaN</td>\n",
       "      <td>NaN</td>\n",
       "      <td>NaN</td>\n",
       "      <td>NaN</td>\n",
       "      <td>NaN</td>\n",
       "      <td>NaN</td>\n",
       "      <td>NaN</td>\n",
       "      <td>NaN</td>\n",
       "      <td>NaN</td>\n",
       "    </tr>\n",
       "    <tr>\n",
       "      <th>2000-02-29</th>\n",
       "      <td>132.700</td>\n",
       "      <td>109.5</td>\n",
       "      <td>152.998</td>\n",
       "      <td>NaN</td>\n",
       "      <td>NaN</td>\n",
       "      <td>NaN</td>\n",
       "      <td>133.400</td>\n",
       "      <td>109.1</td>\n",
       "      <td>153.900</td>\n",
       "      <td>NaN</td>\n",
       "      <td>NaN</td>\n",
       "      <td>NaN</td>\n",
       "    </tr>\n",
       "    <tr>\n",
       "      <th>2000-03-31</th>\n",
       "      <td>132.700</td>\n",
       "      <td>110.1</td>\n",
       "      <td>152.975</td>\n",
       "      <td>NaN</td>\n",
       "      <td>NaN</td>\n",
       "      <td>NaN</td>\n",
       "      <td>132.700</td>\n",
       "      <td>109.5</td>\n",
       "      <td>152.998</td>\n",
       "      <td>NaN</td>\n",
       "      <td>NaN</td>\n",
       "      <td>NaN</td>\n",
       "    </tr>\n",
       "    <tr>\n",
       "      <th>2000-04-30</th>\n",
       "      <td>132.800</td>\n",
       "      <td>109.8</td>\n",
       "      <td>153.975</td>\n",
       "      <td>0.000487</td>\n",
       "      <td>-0.004498</td>\n",
       "      <td>0.006416</td>\n",
       "      <td>132.700</td>\n",
       "      <td>110.1</td>\n",
       "      <td>152.975</td>\n",
       "      <td>NaN</td>\n",
       "      <td>NaN</td>\n",
       "      <td>NaN</td>\n",
       "    </tr>\n",
       "    <tr>\n",
       "      <th>2000-05-31</th>\n",
       "      <td>133.500</td>\n",
       "      <td>110.2</td>\n",
       "      <td>155.385</td>\n",
       "      <td>0.015602</td>\n",
       "      <td>0.006029</td>\n",
       "      <td>0.006393</td>\n",
       "      <td>132.800</td>\n",
       "      <td>109.8</td>\n",
       "      <td>153.975</td>\n",
       "      <td>0.000487</td>\n",
       "      <td>-0.004498</td>\n",
       "      <td>0.006416</td>\n",
       "    </tr>\n",
       "    <tr>\n",
       "      <th>...</th>\n",
       "      <td>...</td>\n",
       "      <td>...</td>\n",
       "      <td>...</td>\n",
       "      <td>...</td>\n",
       "      <td>...</td>\n",
       "      <td>...</td>\n",
       "      <td>...</td>\n",
       "      <td>...</td>\n",
       "      <td>...</td>\n",
       "      <td>...</td>\n",
       "      <td>...</td>\n",
       "      <td>...</td>\n",
       "    </tr>\n",
       "    <tr>\n",
       "      <th>2023-06-30</th>\n",
       "      <td>139.972</td>\n",
       "      <td>215.1</td>\n",
       "      <td>202.007</td>\n",
       "      <td>0.091947</td>\n",
       "      <td>-0.018085</td>\n",
       "      <td>-0.096598</td>\n",
       "      <td>141.025</td>\n",
       "      <td>224.5</td>\n",
       "      <td>199.576</td>\n",
       "      <td>0.089145</td>\n",
       "      <td>-0.014645</td>\n",
       "      <td>-0.042644</td>\n",
       "    </tr>\n",
       "    <tr>\n",
       "      <th>2023-07-31</th>\n",
       "      <td>140.277</td>\n",
       "      <td>211.7</td>\n",
       "      <td>201.624</td>\n",
       "      <td>0.042556</td>\n",
       "      <td>-0.008040</td>\n",
       "      <td>-0.082756</td>\n",
       "      <td>139.972</td>\n",
       "      <td>215.1</td>\n",
       "      <td>202.007</td>\n",
       "      <td>0.091947</td>\n",
       "      <td>-0.018085</td>\n",
       "      <td>-0.096598</td>\n",
       "    </tr>\n",
       "    <tr>\n",
       "      <th>2023-08-31</th>\n",
       "      <td>140.669</td>\n",
       "      <td>212.2</td>\n",
       "      <td>198.768</td>\n",
       "      <td>-0.004049</td>\n",
       "      <td>-0.002524</td>\n",
       "      <td>-0.054788</td>\n",
       "      <td>140.277</td>\n",
       "      <td>211.7</td>\n",
       "      <td>201.624</td>\n",
       "      <td>0.042556</td>\n",
       "      <td>-0.008040</td>\n",
       "      <td>-0.082756</td>\n",
       "    </tr>\n",
       "    <tr>\n",
       "      <th>2023-09-30</th>\n",
       "      <td>140.831</td>\n",
       "      <td>214.3</td>\n",
       "      <td>187.587</td>\n",
       "      <td>-0.071384</td>\n",
       "      <td>0.006137</td>\n",
       "      <td>-0.003719</td>\n",
       "      <td>140.669</td>\n",
       "      <td>212.2</td>\n",
       "      <td>198.768</td>\n",
       "      <td>-0.004049</td>\n",
       "      <td>-0.002524</td>\n",
       "      <td>-0.054788</td>\n",
       "    </tr>\n",
       "    <tr>\n",
       "      <th>2023-10-31</th>\n",
       "      <td>140.831</td>\n",
       "      <td>209.4</td>\n",
       "      <td>187.587</td>\n",
       "      <td>-0.069620</td>\n",
       "      <td>0.003949</td>\n",
       "      <td>-0.010864</td>\n",
       "      <td>140.831</td>\n",
       "      <td>214.3</td>\n",
       "      <td>187.587</td>\n",
       "      <td>-0.071384</td>\n",
       "      <td>0.006137</td>\n",
       "      <td>-0.003719</td>\n",
       "    </tr>\n",
       "  </tbody>\n",
       "</table>\n",
       "<p>286 rows × 12 columns</p>\n",
       "</div>"
      ],
      "text/plain": [
       "            PPIPassenger_CarsMonthly  ManheimUsedVehicleMonthly  \\\n",
       "Date                                                              \n",
       "2000-01-31                   133.400                      109.1   \n",
       "2000-02-29                   132.700                      109.5   \n",
       "2000-03-31                   132.700                      110.1   \n",
       "2000-04-30                   132.800                      109.8   \n",
       "2000-05-31                   133.500                      110.2   \n",
       "...                              ...                        ...   \n",
       "2023-06-30                   139.972                      215.1   \n",
       "2023-07-31                   140.277                      211.7   \n",
       "2023-08-31                   140.669                      212.2   \n",
       "2023-09-30                   140.831                      214.3   \n",
       "2023-10-31                   140.831                      209.4   \n",
       "\n",
       "            CPIUNSAMonthly  CPIUNSAMonthly_pct_change_3period  \\\n",
       "Date                                                            \n",
       "2000-01-31         153.900                                NaN   \n",
       "2000-02-29         152.998                                NaN   \n",
       "2000-03-31         152.975                                NaN   \n",
       "2000-04-30         153.975                           0.000487   \n",
       "2000-05-31         155.385                           0.015602   \n",
       "...                    ...                                ...   \n",
       "2023-06-30         202.007                           0.091947   \n",
       "2023-07-31         201.624                           0.042556   \n",
       "2023-08-31         198.768                          -0.004049   \n",
       "2023-09-30         187.587                          -0.071384   \n",
       "2023-10-31         187.587                          -0.069620   \n",
       "\n",
       "            PPIPassenger_CarsMonthly_pct_change_3period  \\\n",
       "Date                                                      \n",
       "2000-01-31                                          NaN   \n",
       "2000-02-29                                          NaN   \n",
       "2000-03-31                                          NaN   \n",
       "2000-04-30                                    -0.004498   \n",
       "2000-05-31                                     0.006029   \n",
       "...                                                 ...   \n",
       "2023-06-30                                    -0.018085   \n",
       "2023-07-31                                    -0.008040   \n",
       "2023-08-31                                    -0.002524   \n",
       "2023-09-30                                     0.006137   \n",
       "2023-10-31                                     0.003949   \n",
       "\n",
       "            ManheimUsedVehicleMonthly_pct_change_3period  \\\n",
       "Date                                                       \n",
       "2000-01-31                                           NaN   \n",
       "2000-02-29                                           NaN   \n",
       "2000-03-31                                           NaN   \n",
       "2000-04-30                                      0.006416   \n",
       "2000-05-31                                      0.006393   \n",
       "...                                                  ...   \n",
       "2023-06-30                                     -0.096598   \n",
       "2023-07-31                                     -0.082756   \n",
       "2023-08-31                                     -0.054788   \n",
       "2023-09-30                                     -0.003719   \n",
       "2023-10-31                                     -0.010864   \n",
       "\n",
       "            PPIPassenger_CarsMonthly_natlag1  \\\n",
       "Date                                           \n",
       "2000-01-31                               NaN   \n",
       "2000-02-29                           133.400   \n",
       "2000-03-31                           132.700   \n",
       "2000-04-30                           132.700   \n",
       "2000-05-31                           132.800   \n",
       "...                                      ...   \n",
       "2023-06-30                           141.025   \n",
       "2023-07-31                           139.972   \n",
       "2023-08-31                           140.277   \n",
       "2023-09-30                           140.669   \n",
       "2023-10-31                           140.831   \n",
       "\n",
       "            ManheimUsedVehicleMonthly_natlag1  CPIUNSAMonthly_natlag1  \\\n",
       "Date                                                                    \n",
       "2000-01-31                                NaN                     NaN   \n",
       "2000-02-29                              109.1                 153.900   \n",
       "2000-03-31                              109.5                 152.998   \n",
       "2000-04-30                              110.1                 152.975   \n",
       "2000-05-31                              109.8                 153.975   \n",
       "...                                       ...                     ...   \n",
       "2023-06-30                              224.5                 199.576   \n",
       "2023-07-31                              215.1                 202.007   \n",
       "2023-08-31                              211.7                 201.624   \n",
       "2023-09-30                              212.2                 198.768   \n",
       "2023-10-31                              214.3                 187.587   \n",
       "\n",
       "            CPIUNSAMonthly_pct_change_3period_natlag1  \\\n",
       "Date                                                    \n",
       "2000-01-31                                        NaN   \n",
       "2000-02-29                                        NaN   \n",
       "2000-03-31                                        NaN   \n",
       "2000-04-30                                        NaN   \n",
       "2000-05-31                                   0.000487   \n",
       "...                                               ...   \n",
       "2023-06-30                                   0.089145   \n",
       "2023-07-31                                   0.091947   \n",
       "2023-08-31                                   0.042556   \n",
       "2023-09-30                                  -0.004049   \n",
       "2023-10-31                                  -0.071384   \n",
       "\n",
       "            PPIPassenger_CarsMonthly_pct_change_3period_natlag1  \\\n",
       "Date                                                              \n",
       "2000-01-31                                                NaN     \n",
       "2000-02-29                                                NaN     \n",
       "2000-03-31                                                NaN     \n",
       "2000-04-30                                                NaN     \n",
       "2000-05-31                                          -0.004498     \n",
       "...                                                       ...     \n",
       "2023-06-30                                          -0.014645     \n",
       "2023-07-31                                          -0.018085     \n",
       "2023-08-31                                          -0.008040     \n",
       "2023-09-30                                          -0.002524     \n",
       "2023-10-31                                           0.006137     \n",
       "\n",
       "            ManheimUsedVehicleMonthly_pct_change_3period_natlag1  \n",
       "Date                                                              \n",
       "2000-01-31                                                NaN     \n",
       "2000-02-29                                                NaN     \n",
       "2000-03-31                                                NaN     \n",
       "2000-04-30                                                NaN     \n",
       "2000-05-31                                           0.006416     \n",
       "...                                                       ...     \n",
       "2023-06-30                                          -0.042644     \n",
       "2023-07-31                                          -0.096598     \n",
       "2023-08-31                                          -0.082756     \n",
       "2023-09-30                                          -0.054788     \n",
       "2023-10-31                                          -0.003719     \n",
       "\n",
       "[286 rows x 12 columns]"
      ]
     },
     "execution_count": 9,
     "metadata": {},
     "output_type": "execute_result"
    }
   ],
   "source": [
    "model['df_transformed_lag']"
   ]
  },
  {
   "cell_type": "code",
   "execution_count": 26,
   "metadata": {},
   "outputs": [],
   "source": [
    "models = [model, model2]\n",
    "'''\n",
    "- prediction over time\n",
    "- scatter plot\n",
    "- weighting scheme (hard to implement)\n",
    "- correlation between models (both error and residuals)\n",
    "- ranking of models\n",
    "'''\n",
    "TARGET = 'CPI-U_SA_M'\n",
    "def model_comparison(models_list, target_variable_index_name, prediction_agg_function='mean', shift=1):\n",
    "    target_index = deepcopy(models_list[0]['df_transformed_lag'][target_variable_index_name])\n",
    "    df_preds_mega = []\n",
    "    df_residuals_mega = []\n",
    "    sharpes = []\n",
    "    df_stats_mega = []\n",
    "    for model in models_list:\n",
    "        df_predictions = deepcopy(model['df_coefs_dict']['predictions']).dropna()\n",
    "        df_residuals = deepcopy(model['df_coefs_dict']['residuals'].dropna())\n",
    "        df_stats = generate_stats_table(model).set_index('metrics')\n",
    "        stats_agg = df_stats.select_dtypes('number').groupby('metrics').mean()\n",
    "        pred_agg = df_predictions.mean(axis=1)\n",
    "        residuals_agg = df_residuals.mean(axis=1)\n",
    "        pred_agg.name = model['name']\n",
    "        residuals_agg.name = model['name']\n",
    "        pnl = pred_agg.shift(shift) * target_index.pct_change()\n",
    "        sharpe = (pnl.mean()/pnl.std())\n",
    "        stats_agg.loc[len(stats_agg)] = (sharpe)\n",
    "        stats_agg.index = list(stats_agg.index[:-1]) + ['sharpe']\n",
    "        stats_agg.name = model['name']\n",
    "        df_preds_mega.append(pred_agg)\n",
    "        df_residuals_mega.append(residuals_agg)\n",
    "        df_stats_mega.append(stats_agg)\n",
    "        sharpes.append(sharpe)\n",
    "    \n",
    "    df_preds_mega = pd.concat(df_preds_mega, axis=1)\n",
    "    df_residuals_mega = pd.concat(df_residuals_mega, axis=1)\n",
    "    df_stats_mega = pd.concat(df_stats_mega, axis=1)\n",
    "    df_stats_mega.columns = [model['name'] for model in models_list]\n",
    "    df_preds_mega['target'] = model['df_transformed_lag'][model['selected_target']]\n",
    "    return df_preds_mega.dropna(), df_residuals_mega.dropna(), df_stats_mega\n",
    "\n",
    "\n",
    "\n",
    "df_preds_mega, df_residuals_mega, df_stats_mega = model_comparison(models, 'CPIUNSAMonthly')"
   ]
  },
  {
   "cell_type": "code",
   "execution_count": 29,
   "metadata": {},
   "outputs": [
    {
     "data": {
      "text/plain": [
       "['PPIPassenger_CarsMonthly_pct_change_3period_natlag1',\n",
       " 'ManheimUsedVehicleMonthly_pct_change_3period_natlag1']"
      ]
     },
     "execution_count": 29,
     "metadata": {},
     "output_type": "execute_result"
    }
   ],
   "source": [
    "model['selected_x_variables']"
   ]
  },
  {
   "cell_type": "code",
   "execution_count": 30,
   "metadata": {},
   "outputs": [
    {
     "data": {
      "text/plain": [
       "['5yTreasuryMonthly_diff_3period_natlag1',\n",
       " 'PPIAutomotiveMonthly_pct_change_3period_natlag1',\n",
       " 'PPIPassenger_CarsMonthly_pct_change_3period_natlag1',\n",
       " 'CPIUNSAMonthly_pct_change_3period_natlag1']"
      ]
     },
     "execution_count": 30,
     "metadata": {},
     "output_type": "execute_result"
    }
   ],
   "source": [
    "model2['selected_x_variables']"
   ]
  },
  {
   "cell_type": "code",
   "execution_count": 160,
   "metadata": {},
   "outputs": [
    {
     "data": {
      "text/plain": [
       "<Axes: xlabel='Date'>"
      ]
     },
     "execution_count": 160,
     "metadata": {},
     "output_type": "execute_result"
    },
    {
     "data": {
      "image/png": "[encoded data removed]",
      "text/plain": [
       "<Figure size 640x480 with 1 Axes>"
      ]
     },
     "metadata": {},
     "output_type": "display_data"
    }
   ],
   "source": [
    "df_preds_mega.plot()"
   ]
  },
  {
   "cell_type": "code",
   "execution_count": 152,
   "metadata": {},
   "outputs": [
    {
     "data": {
      "text/html": [
       "<div>\n",
       "<style scoped>\n",
       "    .dataframe tbody tr th:only-of-type {\n",
       "        vertical-align: middle;\n",
       "    }\n",
       "\n",
       "    .dataframe tbody tr th {\n",
       "        vertical-align: top;\n",
       "    }\n",
       "\n",
       "    .dataframe thead th {\n",
       "        text-align: right;\n",
       "    }\n",
       "</style>\n",
       "<table border=\"1\" class=\"dataframe\">\n",
       "  <thead>\n",
       "    <tr style=\"text-align: right;\">\n",
       "      <th></th>\n",
       "      <th>0</th>\n",
       "      <th>1</th>\n",
       "      <th>target</th>\n",
       "    </tr>\n",
       "  </thead>\n",
       "  <tbody>\n",
       "    <tr>\n",
       "      <th>count</th>\n",
       "      <td>102.000000</td>\n",
       "      <td>102.000000</td>\n",
       "      <td>102.000000</td>\n",
       "    </tr>\n",
       "    <tr>\n",
       "      <th>mean</th>\n",
       "      <td>0.000857</td>\n",
       "      <td>0.002270</td>\n",
       "      <td>0.008714</td>\n",
       "    </tr>\n",
       "    <tr>\n",
       "      <th>std</th>\n",
       "      <td>0.024093</td>\n",
       "      <td>0.020811</td>\n",
       "      <td>0.052194</td>\n",
       "    </tr>\n",
       "    <tr>\n",
       "      <th>min</th>\n",
       "      <td>-0.048190</td>\n",
       "      <td>-0.044599</td>\n",
       "      <td>-0.065551</td>\n",
       "    </tr>\n",
       "    <tr>\n",
       "      <th>25%</th>\n",
       "      <td>-0.002580</td>\n",
       "      <td>-0.000763</td>\n",
       "      <td>-0.014927</td>\n",
       "    </tr>\n",
       "    <tr>\n",
       "      <th>50%</th>\n",
       "      <td>-0.000233</td>\n",
       "      <td>-0.000212</td>\n",
       "      <td>-0.001915</td>\n",
       "    </tr>\n",
       "    <tr>\n",
       "      <th>75%</th>\n",
       "      <td>0.001793</td>\n",
       "      <td>0.000356</td>\n",
       "      <td>0.012093</td>\n",
       "    </tr>\n",
       "    <tr>\n",
       "      <th>max</th>\n",
       "      <td>0.117726</td>\n",
       "      <td>0.094469</td>\n",
       "      <td>0.288217</td>\n",
       "    </tr>\n",
       "  </tbody>\n",
       "</table>\n",
       "</div>"
      ],
      "text/plain": [
       "                0           1      target\n",
       "count  102.000000  102.000000  102.000000\n",
       "mean     0.000857    0.002270    0.008714\n",
       "std      0.024093    0.020811    0.052194\n",
       "min     -0.048190   -0.044599   -0.065551\n",
       "25%     -0.002580   -0.000763   -0.014927\n",
       "50%     -0.000233   -0.000212   -0.001915\n",
       "75%      0.001793    0.000356    0.012093\n",
       "max      0.117726    0.094469    0.288217"
      ]
     },
     "execution_count": 152,
     "metadata": {},
     "output_type": "execute_result"
    }
   ],
   "source": [
    "df_preds_mega.describe()"
   ]
  },
  {
   "cell_type": "code",
   "execution_count": 153,
   "metadata": {},
   "outputs": [
    {
     "data": {
      "text/html": [
       "<div>\n",
       "<style scoped>\n",
       "    .dataframe tbody tr th:only-of-type {\n",
       "        vertical-align: middle;\n",
       "    }\n",
       "\n",
       "    .dataframe tbody tr th {\n",
       "        vertical-align: top;\n",
       "    }\n",
       "\n",
       "    .dataframe thead th {\n",
       "        text-align: right;\n",
       "    }\n",
       "</style>\n",
       "<table border=\"1\" class=\"dataframe\">\n",
       "  <thead>\n",
       "    <tr style=\"text-align: right;\">\n",
       "      <th></th>\n",
       "      <th>0</th>\n",
       "      <th>1</th>\n",
       "    </tr>\n",
       "  </thead>\n",
       "  <tbody>\n",
       "    <tr>\n",
       "      <th>0</th>\n",
       "      <td>1.000000</td>\n",
       "      <td>0.909474</td>\n",
       "    </tr>\n",
       "    <tr>\n",
       "      <th>1</th>\n",
       "      <td>0.909474</td>\n",
       "      <td>1.000000</td>\n",
       "    </tr>\n",
       "  </tbody>\n",
       "</table>\n",
       "</div>"
      ],
      "text/plain": [
       "          0         1\n",
       "0  1.000000  0.909474\n",
       "1  0.909474  1.000000"
      ]
     },
     "execution_count": 153,
     "metadata": {},
     "output_type": "execute_result"
    }
   ],
   "source": [
    "df_residuals_mega.corr()"
   ]
  },
  {
   "cell_type": "code",
   "execution_count": 135,
   "metadata": {},
   "outputs": [
    {
     "data": {
      "text/html": [
       "<div>\n",
       "<style scoped>\n",
       "    .dataframe tbody tr th:only-of-type {\n",
       "        vertical-align: middle;\n",
       "    }\n",
       "\n",
       "    .dataframe tbody tr th {\n",
       "        vertical-align: top;\n",
       "    }\n",
       "\n",
       "    .dataframe thead th {\n",
       "        text-align: right;\n",
       "    }\n",
       "</style>\n",
       "<table border=\"1\" class=\"dataframe\">\n",
       "  <thead>\n",
       "    <tr style=\"text-align: right;\">\n",
       "      <th></th>\n",
       "      <th>value</th>\n",
       "      <th>value</th>\n",
       "    </tr>\n",
       "  </thead>\n",
       "  <tbody>\n",
       "    <tr>\n",
       "      <th>corr</th>\n",
       "      <td>0.860141</td>\n",
       "      <td>0.558157</td>\n",
       "    </tr>\n",
       "    <tr>\n",
       "      <th>mae</th>\n",
       "      <td>0.020556</td>\n",
       "      <td>0.021150</td>\n",
       "    </tr>\n",
       "    <tr>\n",
       "      <th>mse</th>\n",
       "      <td>0.001191</td>\n",
       "      <td>0.001390</td>\n",
       "    </tr>\n",
       "    <tr>\n",
       "      <th>r2</th>\n",
       "      <td>0.558430</td>\n",
       "      <td>0.251603</td>\n",
       "    </tr>\n",
       "    <tr>\n",
       "      <th>sharpe</th>\n",
       "      <td>0.273850</td>\n",
       "      <td>0.218374</td>\n",
       "    </tr>\n",
       "  </tbody>\n",
       "</table>\n",
       "</div>"
      ],
      "text/plain": [
       "           value     value\n",
       "corr    0.860141  0.558157\n",
       "mae     0.020556  0.021150\n",
       "mse     0.001191  0.001390\n",
       "r2      0.558430  0.251603\n",
       "sharpe  0.273850  0.218374"
      ]
     },
     "execution_count": 135,
     "metadata": {},
     "output_type": "execute_result"
    }
   ],
   "source": [
    "df_stats_mega"
   ]
  },
  {
   "cell_type": "code",
   "execution_count": 112,
   "metadata": {},
   "outputs": [
    {
     "data": {
      "text/html": [
       "<div>\n",
       "<style scoped>\n",
       "    .dataframe tbody tr th:only-of-type {\n",
       "        vertical-align: middle;\n",
       "    }\n",
       "\n",
       "    .dataframe tbody tr th {\n",
       "        vertical-align: top;\n",
       "    }\n",
       "\n",
       "    .dataframe thead th {\n",
       "        text-align: right;\n",
       "    }\n",
       "</style>\n",
       "<table border=\"1\" class=\"dataframe\">\n",
       "  <thead>\n",
       "    <tr style=\"text-align: right;\">\n",
       "      <th></th>\n",
       "      <th>0</th>\n",
       "      <th>1</th>\n",
       "    </tr>\n",
       "    <tr>\n",
       "      <th>Date</th>\n",
       "      <th></th>\n",
       "      <th></th>\n",
       "    </tr>\n",
       "  </thead>\n",
       "  <tbody>\n",
       "    <tr>\n",
       "      <th>2009-10-31</th>\n",
       "      <td>NaN</td>\n",
       "      <td>-0.079585</td>\n",
       "    </tr>\n",
       "    <tr>\n",
       "      <th>2009-11-30</th>\n",
       "      <td>NaN</td>\n",
       "      <td>-0.085513</td>\n",
       "    </tr>\n",
       "    <tr>\n",
       "      <th>2009-12-31</th>\n",
       "      <td>NaN</td>\n",
       "      <td>-0.091385</td>\n",
       "    </tr>\n",
       "    <tr>\n",
       "      <th>2010-01-31</th>\n",
       "      <td>NaN</td>\n",
       "      <td>-0.078874</td>\n",
       "    </tr>\n",
       "    <tr>\n",
       "      <th>2010-02-28</th>\n",
       "      <td>NaN</td>\n",
       "      <td>-0.055002</td>\n",
       "    </tr>\n",
       "    <tr>\n",
       "      <th>...</th>\n",
       "      <td>...</td>\n",
       "      <td>...</td>\n",
       "    </tr>\n",
       "    <tr>\n",
       "      <th>2023-06-30</th>\n",
       "      <td>-0.069393</td>\n",
       "      <td>-0.105732</td>\n",
       "    </tr>\n",
       "    <tr>\n",
       "      <th>2023-07-31</th>\n",
       "      <td>-0.039483</td>\n",
       "      <td>-0.070158</td>\n",
       "    </tr>\n",
       "    <tr>\n",
       "      <th>2023-08-31</th>\n",
       "      <td>-0.010120</td>\n",
       "      <td>-0.006969</td>\n",
       "    </tr>\n",
       "    <tr>\n",
       "      <th>2023-09-30</th>\n",
       "      <td>0.025793</td>\n",
       "      <td>0.025529</td>\n",
       "    </tr>\n",
       "    <tr>\n",
       "      <th>2023-10-31</th>\n",
       "      <td>0.021949</td>\n",
       "      <td>0.036484</td>\n",
       "    </tr>\n",
       "  </tbody>\n",
       "</table>\n",
       "<p>169 rows × 2 columns</p>\n",
       "</div>"
      ],
      "text/plain": [
       "                   0         1\n",
       "Date                          \n",
       "2009-10-31       NaN -0.079585\n",
       "2009-11-30       NaN -0.085513\n",
       "2009-12-31       NaN -0.091385\n",
       "2010-01-31       NaN -0.078874\n",
       "2010-02-28       NaN -0.055002\n",
       "...              ...       ...\n",
       "2023-06-30 -0.069393 -0.105732\n",
       "2023-07-31 -0.039483 -0.070158\n",
       "2023-08-31 -0.010120 -0.006969\n",
       "2023-09-30  0.025793  0.025529\n",
       "2023-10-31  0.021949  0.036484\n",
       "\n",
       "[169 rows x 2 columns]"
      ]
     },
     "execution_count": 112,
     "metadata": {},
     "output_type": "execute_result"
    }
   ],
   "source": [
    "df_residuals_mega"
   ]
  },
  {
   "cell_type": "code",
   "execution_count": 117,
   "metadata": {},
   "outputs": [
    {
     "data": {
      "application/vnd.plotly.v1+json": {
       "config": {
        "plotlyServerURL": "https://plot.ly"
       },
       "data": [
        {
         "mode": "lines+markers",
         "name": "0",
         "type": "scatter",
         "x": [
          "2015-09-30T00:00:00",
          "2015-10-31T00:00:00",
          "2015-11-30T00:00:00",
          "2015-12-31T00:00:00",
          "2016-01-31T00:00:00",
          "2016-02-29T00:00:00",
          "2016-03-31T00:00:00",
          "2016-04-30T00:00:00",
          "2016-05-31T00:00:00",
          "2016-06-30T00:00:00",
          "2016-07-31T00:00:00",
          "2016-08-31T00:00:00",
          "2016-09-30T00:00:00",
          "2016-10-31T00:00:00",
          "2016-11-30T00:00:00",
          "2016-12-31T00:00:00",
          "2017-01-31T00:00:00",
          "2017-02-28T00:00:00",
          "2017-03-31T00:00:00",
          "2017-04-30T00:00:00",
          "2017-05-31T00:00:00",
          "2017-06-30T00:00:00",
          "2017-07-31T00:00:00",
          "2017-08-31T00:00:00",
          "2017-09-30T00:00:00",
          "2017-10-31T00:00:00",
          "2017-11-30T00:00:00",
          "2017-12-31T00:00:00",
          "2018-01-31T00:00:00",
          "2018-02-28T00:00:00",
          "2018-03-31T00:00:00",
          "2018-04-30T00:00:00",
          "2018-05-31T00:00:00",
          "2018-06-30T00:00:00",
          "2018-07-31T00:00:00",
          "2018-08-31T00:00:00",
          "2018-09-30T00:00:00",
          "2018-10-31T00:00:00",
          "2018-11-30T00:00:00",
          "2018-12-31T00:00:00",
          "2019-01-31T00:00:00",
          "2019-02-28T00:00:00",
          "2019-03-31T00:00:00",
          "2019-04-30T00:00:00",
          "2019-05-31T00:00:00",
          "2019-06-30T00:00:00",
          "2019-07-31T00:00:00",
          "2019-08-31T00:00:00",
          "2019-09-30T00:00:00",
          "2019-10-31T00:00:00",
          "2019-11-30T00:00:00",
          "2019-12-31T00:00:00",
          "2020-01-31T00:00:00",
          "2020-02-29T00:00:00",
          "2020-03-31T00:00:00",
          "2020-04-30T00:00:00",
          "2020-05-31T00:00:00",
          "2020-06-30T00:00:00",
          "2020-07-31T00:00:00",
          "2020-08-31T00:00:00",
          "2020-09-30T00:00:00",
          "2020-10-31T00:00:00",
          "2020-11-30T00:00:00",
          "2020-12-31T00:00:00",
          "2021-01-31T00:00:00",
          "2021-02-28T00:00:00",
          "2021-03-31T00:00:00",
          "2021-04-30T00:00:00",
          "2021-05-31T00:00:00",
          "2021-06-30T00:00:00",
          "2021-07-31T00:00:00",
          "2021-08-31T00:00:00",
          "2021-09-30T00:00:00",
          "2021-10-31T00:00:00",
          "2021-11-30T00:00:00",
          "2021-12-31T00:00:00",
          "2022-01-31T00:00:00",
          "2022-02-28T00:00:00",
          "2022-03-31T00:00:00",
          "2022-04-30T00:00:00",
          "2022-05-31T00:00:00",
          "2022-06-30T00:00:00",
          "2022-07-31T00:00:00",
          "2022-08-31T00:00:00",
          "2022-09-30T00:00:00",
          "2022-10-31T00:00:00",
          "2022-11-30T00:00:00",
          "2022-12-31T00:00:00",
          "2023-01-31T00:00:00",
          "2023-02-28T00:00:00",
          "2023-03-31T00:00:00",
          "2023-04-30T00:00:00",
          "2023-05-31T00:00:00",
          "2023-06-30T00:00:00",
          "2023-07-31T00:00:00",
          "2023-08-31T00:00:00",
          "2023-09-30T00:00:00",
          "2023-10-31T00:00:00"
         ],
         "y": [
          2,
          2,
          2,
          2,
          2,
          2,
          2,
          1,
          1,
          1,
          1,
          1,
          1,
          1,
          1,
          1,
          1,
          1,
          2,
          2,
          2,
          2,
          2,
          2,
          2,
          1,
          1,
          2,
          2,
          2,
          2,
          2,
          2,
          2,
          2,
          2,
          2,
          2,
          2,
          2,
          2,
          2,
          2,
          2,
          2,
          2,
          1,
          2,
          1,
          1,
          1,
          1,
          1,
          1,
          1,
          1,
          2,
          2,
          2,
          1,
          1,
          1,
          1,
          1,
          1,
          1,
          1,
          1,
          1,
          1,
          1,
          1,
          1,
          1,
          1,
          2,
          2,
          2,
          2,
          2,
          2,
          1,
          1,
          1,
          1,
          1,
          1,
          1,
          1,
          1,
          1,
          1,
          1,
          1,
          1,
          1,
          1,
          1
         ]
        },
        {
         "mode": "lines+markers",
         "name": "1",
         "type": "scatter",
         "x": [
          "2015-09-30T00:00:00",
          "2015-10-31T00:00:00",
          "2015-11-30T00:00:00",
          "2015-12-31T00:00:00",
          "2016-01-31T00:00:00",
          "2016-02-29T00:00:00",
          "2016-03-31T00:00:00",
          "2016-04-30T00:00:00",
          "2016-05-31T00:00:00",
          "2016-06-30T00:00:00",
          "2016-07-31T00:00:00",
          "2016-08-31T00:00:00",
          "2016-09-30T00:00:00",
          "2016-10-31T00:00:00",
          "2016-11-30T00:00:00",
          "2016-12-31T00:00:00",
          "2017-01-31T00:00:00",
          "2017-02-28T00:00:00",
          "2017-03-31T00:00:00",
          "2017-04-30T00:00:00",
          "2017-05-31T00:00:00",
          "2017-06-30T00:00:00",
          "2017-07-31T00:00:00",
          "2017-08-31T00:00:00",
          "2017-09-30T00:00:00",
          "2017-10-31T00:00:00",
          "2017-11-30T00:00:00",
          "2017-12-31T00:00:00",
          "2018-01-31T00:00:00",
          "2018-02-28T00:00:00",
          "2018-03-31T00:00:00",
          "2018-04-30T00:00:00",
          "2018-05-31T00:00:00",
          "2018-06-30T00:00:00",
          "2018-07-31T00:00:00",
          "2018-08-31T00:00:00",
          "2018-09-30T00:00:00",
          "2018-10-31T00:00:00",
          "2018-11-30T00:00:00",
          "2018-12-31T00:00:00",
          "2019-01-31T00:00:00",
          "2019-02-28T00:00:00",
          "2019-03-31T00:00:00",
          "2019-04-30T00:00:00",
          "2019-05-31T00:00:00",
          "2019-06-30T00:00:00",
          "2019-07-31T00:00:00",
          "2019-08-31T00:00:00",
          "2019-09-30T00:00:00",
          "2019-10-31T00:00:00",
          "2019-11-30T00:00:00",
          "2019-12-31T00:00:00",
          "2020-01-31T00:00:00",
          "2020-02-29T00:00:00",
          "2020-03-31T00:00:00",
          "2020-04-30T00:00:00",
          "2020-05-31T00:00:00",
          "2020-06-30T00:00:00",
          "2020-07-31T00:00:00",
          "2020-08-31T00:00:00",
          "2020-09-30T00:00:00",
          "2020-10-31T00:00:00",
          "2020-11-30T00:00:00",
          "2020-12-31T00:00:00",
          "2021-01-31T00:00:00",
          "2021-02-28T00:00:00",
          "2021-03-31T00:00:00",
          "2021-04-30T00:00:00",
          "2021-05-31T00:00:00",
          "2021-06-30T00:00:00",
          "2021-07-31T00:00:00",
          "2021-08-31T00:00:00",
          "2021-09-30T00:00:00",
          "2021-10-31T00:00:00",
          "2021-11-30T00:00:00",
          "2021-12-31T00:00:00",
          "2022-01-31T00:00:00",
          "2022-02-28T00:00:00",
          "2022-03-31T00:00:00",
          "2022-04-30T00:00:00",
          "2022-05-31T00:00:00",
          "2022-06-30T00:00:00",
          "2022-07-31T00:00:00",
          "2022-08-31T00:00:00",
          "2022-09-30T00:00:00",
          "2022-10-31T00:00:00",
          "2022-11-30T00:00:00",
          "2022-12-31T00:00:00",
          "2023-01-31T00:00:00",
          "2023-02-28T00:00:00",
          "2023-03-31T00:00:00",
          "2023-04-30T00:00:00",
          "2023-05-31T00:00:00",
          "2023-06-30T00:00:00",
          "2023-07-31T00:00:00",
          "2023-08-31T00:00:00",
          "2023-09-30T00:00:00",
          "2023-10-31T00:00:00"
         ],
         "y": [
          1,
          1,
          1,
          1,
          1,
          1,
          1,
          2,
          2,
          2,
          2,
          2,
          2,
          2,
          2,
          2,
          2,
          2,
          1,
          1,
          1,
          1,
          1,
          1,
          1,
          2,
          2,
          1,
          1,
          1,
          1,
          1,
          1,
          1,
          1,
          1,
          1,
          1,
          1,
          1,
          1,
          1,
          1,
          1,
          1,
          1,
          2,
          1,
          2,
          2,
          2,
          2,
          2,
          2,
          2,
          2,
          1,
          1,
          1,
          2,
          2,
          2,
          2,
          2,
          2,
          2,
          2,
          2,
          2,
          2,
          2,
          2,
          2,
          2,
          2,
          1,
          1,
          1,
          1,
          1,
          1,
          2,
          2,
          2,
          2,
          2,
          2,
          2,
          2,
          2,
          2,
          2,
          2,
          2,
          2,
          2,
          2,
          2
         ]
        }
       ],
       "layout": {
        "template": {
         "data": {
          "bar": [
           {
            "error_x": {
             "color": "#2a3f5f"
            },
            "error_y": {
             "color": "#2a3f5f"
            },
            "marker": {
             "line": {
              "color": "white",
              "width": 0.5
             },
             "pattern": {
              "fillmode": "overlay",
              "size": 10,
              "solidity": 0.2
             }
            },
            "type": "bar"
           }
          ],
          "barpolar": [
           {
            "marker": {
             "line": {
              "color": "white",
              "width": 0.5
             },
             "pattern": {
              "fillmode": "overlay",
              "size": 10,
              "solidity": 0.2
             }
            },
            "type": "barpolar"
           }
          ],
          "carpet": [
           {
            "aaxis": {
             "endlinecolor": "#2a3f5f",
             "gridcolor": "#C8D4E3",
             "linecolor": "#C8D4E3",
             "minorgridcolor": "#C8D4E3",
             "startlinecolor": "#2a3f5f"
            },
            "baxis": {
             "endlinecolor": "#2a3f5f",
             "gridcolor": "#C8D4E3",
             "linecolor": "#C8D4E3",
             "minorgridcolor": "#C8D4E3",
             "startlinecolor": "#2a3f5f"
            },
            "type": "carpet"
           }
          ],
          "choropleth": [
           {
            "colorbar": {
             "outlinewidth": 0,
             "ticks": ""
            },
            "type": "choropleth"
           }
          ],
          "contour": [
           {
            "colorbar": {
             "outlinewidth": 0,
             "ticks": ""
            },
            "colorscale": [
             [
              0,
              "#0d0887"
             ],
             [
              0.1111111111111111,
              "#46039f"
             ],
             [
              0.2222222222222222,
              "#7201a8"
             ],
             [
              0.3333333333333333,
              "#9c179e"
             ],
             [
              0.4444444444444444,
              "#bd3786"
             ],
             [
              0.5555555555555556,
              "#d8576b"
             ],
             [
              0.6666666666666666,
              "#ed7953"
             ],
             [
              0.7777777777777778,
              "#fb9f3a"
             ],
             [
              0.8888888888888888,
              "#fdca26"
             ],
             [
              1,
              "#f0f921"
             ]
            ],
            "type": "contour"
           }
          ],
          "contourcarpet": [
           {
            "colorbar": {
             "outlinewidth": 0,
             "ticks": ""
            },
            "type": "contourcarpet"
           }
          ],
          "heatmap": [
           {
            "colorbar": {
             "outlinewidth": 0,
             "ticks": ""
            },
            "colorscale": [
             [
              0,
              "#0d0887"
             ],
             [
              0.1111111111111111,
              "#46039f"
             ],
             [
              0.2222222222222222,
              "#7201a8"
             ],
             [
              0.3333333333333333,
              "#9c179e"
             ],
             [
              0.4444444444444444,
              "#bd3786"
             ],
             [
              0.5555555555555556,
              "#d8576b"
             ],
             [
              0.6666666666666666,
              "#ed7953"
             ],
             [
              0.7777777777777778,
              "#fb9f3a"
             ],
             [
              0.8888888888888888,
              "#fdca26"
             ],
             [
              1,
              "#f0f921"
             ]
            ],
            "type": "heatmap"
           }
          ],
          "heatmapgl": [
           {
            "colorbar": {
             "outlinewidth": 0,
             "ticks": ""
            },
            "colorscale": [
             [
              0,
              "#0d0887"
             ],
             [
              0.1111111111111111,
              "#46039f"
             ],
             [
              0.2222222222222222,
              "#7201a8"
             ],
             [
              0.3333333333333333,
              "#9c179e"
             ],
             [
              0.4444444444444444,
              "#bd3786"
             ],
             [
              0.5555555555555556,
              "#d8576b"
             ],
             [
              0.6666666666666666,
              "#ed7953"
             ],
             [
              0.7777777777777778,
              "#fb9f3a"
             ],
             [
              0.8888888888888888,
              "#fdca26"
             ],
             [
              1,
              "#f0f921"
             ]
            ],
            "type": "heatmapgl"
           }
          ],
          "histogram": [
           {
            "marker": {
             "pattern": {
              "fillmode": "overlay",
              "size": 10,
              "solidity": 0.2
             }
            },
            "type": "histogram"
           }
          ],
          "histogram2d": [
           {
            "colorbar": {
             "outlinewidth": 0,
             "ticks": ""
            },
            "colorscale": [
             [
              0,
              "#0d0887"
             ],
             [
              0.1111111111111111,
              "#46039f"
             ],
             [
              0.2222222222222222,
              "#7201a8"
             ],
             [
              0.3333333333333333,
              "#9c179e"
             ],
             [
              0.4444444444444444,
              "#bd3786"
             ],
             [
              0.5555555555555556,
              "#d8576b"
             ],
             [
              0.6666666666666666,
              "#ed7953"
             ],
             [
              0.7777777777777778,
              "#fb9f3a"
             ],
             [
              0.8888888888888888,
              "#fdca26"
             ],
             [
              1,
              "#f0f921"
             ]
            ],
            "type": "histogram2d"
           }
          ],
          "histogram2dcontour": [
           {
            "colorbar": {
             "outlinewidth": 0,
             "ticks": ""
            },
            "colorscale": [
             [
              0,
              "#0d0887"
             ],
             [
              0.1111111111111111,
              "#46039f"
             ],
             [
              0.2222222222222222,
              "#7201a8"
             ],
             [
              0.3333333333333333,
              "#9c179e"
             ],
             [
              0.4444444444444444,
              "#bd3786"
             ],
             [
              0.5555555555555556,
              "#d8576b"
             ],
             [
              0.6666666666666666,
              "#ed7953"
             ],
             [
              0.7777777777777778,
              "#fb9f3a"
             ],
             [
              0.8888888888888888,
              "#fdca26"
             ],
             [
              1,
              "#f0f921"
             ]
            ],
            "type": "histogram2dcontour"
           }
          ],
          "mesh3d": [
           {
            "colorbar": {
             "outlinewidth": 0,
             "ticks": ""
            },
            "type": "mesh3d"
           }
          ],
          "parcoords": [
           {
            "line": {
             "colorbar": {
              "outlinewidth": 0,
              "ticks": ""
             }
            },
            "type": "parcoords"
           }
          ],
          "pie": [
           {
            "automargin": true,
            "type": "pie"
           }
          ],
          "scatter": [
           {
            "fillpattern": {
             "fillmode": "overlay",
             "size": 10,
             "solidity": 0.2
            },
            "type": "scatter"
           }
          ],
          "scatter3d": [
           {
            "line": {
             "colorbar": {
              "outlinewidth": 0,
              "ticks": ""
             }
            },
            "marker": {
             "colorbar": {
              "outlinewidth": 0,
              "ticks": ""
             }
            },
            "type": "scatter3d"
           }
          ],
          "scattercarpet": [
           {
            "marker": {
             "colorbar": {
              "outlinewidth": 0,
              "ticks": ""
             }
            },
            "type": "scattercarpet"
           }
          ],
          "scattergeo": [
           {
            "marker": {
             "colorbar": {
              "outlinewidth": 0,
              "ticks": ""
             }
            },
            "type": "scattergeo"
           }
          ],
          "scattergl": [
           {
            "marker": {
             "colorbar": {
              "outlinewidth": 0,
              "ticks": ""
             }
            },
            "type": "scattergl"
           }
          ],
          "scattermapbox": [
           {
            "marker": {
             "colorbar": {
              "outlinewidth": 0,
              "ticks": ""
             }
            },
            "type": "scattermapbox"
           }
          ],
          "scatterpolar": [
           {
            "marker": {
             "colorbar": {
              "outlinewidth": 0,
              "ticks": ""
             }
            },
            "type": "scatterpolar"
           }
          ],
          "scatterpolargl": [
           {
            "marker": {
             "colorbar": {
              "outlinewidth": 0,
              "ticks": ""
             }
            },
            "type": "scatterpolargl"
           }
          ],
          "scatterternary": [
           {
            "marker": {
             "colorbar": {
              "outlinewidth": 0,
              "ticks": ""
             }
            },
            "type": "scatterternary"
           }
          ],
          "surface": [
           {
            "colorbar": {
             "outlinewidth": 0,
             "ticks": ""
            },
            "colorscale": [
             [
              0,
              "#0d0887"
             ],
             [
              0.1111111111111111,
              "#46039f"
             ],
             [
              0.2222222222222222,
              "#7201a8"
             ],
             [
              0.3333333333333333,
              "#9c179e"
             ],
             [
              0.4444444444444444,
              "#bd3786"
             ],
             [
              0.5555555555555556,
              "#d8576b"
             ],
             [
              0.6666666666666666,
              "#ed7953"
             ],
             [
              0.7777777777777778,
              "#fb9f3a"
             ],
             [
              0.8888888888888888,
              "#fdca26"
             ],
             [
              1,
              "#f0f921"
             ]
            ],
            "type": "surface"
           }
          ],
          "table": [
           {
            "cells": {
             "fill": {
              "color": "#EBF0F8"
             },
             "line": {
              "color": "white"
             }
            },
            "header": {
             "fill": {
              "color": "#C8D4E3"
             },
             "line": {
              "color": "white"
             }
            },
            "type": "table"
           }
          ]
         },
         "layout": {
          "annotationdefaults": {
           "arrowcolor": "#2a3f5f",
           "arrowhead": 0,
           "arrowwidth": 1
          },
          "autotypenumbers": "strict",
          "coloraxis": {
           "colorbar": {
            "outlinewidth": 0,
            "ticks": ""
           }
          },
          "colorscale": {
           "diverging": [
            [
             0,
             "#8e0152"
            ],
            [
             0.1,
             "#c51b7d"
            ],
            [
             0.2,
             "#de77ae"
            ],
            [
             0.3,
             "#f1b6da"
            ],
            [
             0.4,
             "#fde0ef"
            ],
            [
             0.5,
             "#f7f7f7"
            ],
            [
             0.6,
             "#e6f5d0"
            ],
            [
             0.7,
             "#b8e186"
            ],
            [
             0.8,
             "#7fbc41"
            ],
            [
             0.9,
             "#4d9221"
            ],
            [
             1,
             "#276419"
            ]
           ],
           "sequential": [
            [
             0,
             "#0d0887"
            ],
            [
             0.1111111111111111,
             "#46039f"
            ],
            [
             0.2222222222222222,
             "#7201a8"
            ],
            [
             0.3333333333333333,
             "#9c179e"
            ],
            [
             0.4444444444444444,
             "#bd3786"
            ],
            [
             0.5555555555555556,
             "#d8576b"
            ],
            [
             0.6666666666666666,
             "#ed7953"
            ],
            [
             0.7777777777777778,
             "#fb9f3a"
            ],
            [
             0.8888888888888888,
             "#fdca26"
            ],
            [
             1,
             "#f0f921"
            ]
           ],
           "sequentialminus": [
            [
             0,
             "#0d0887"
            ],
            [
             0.1111111111111111,
             "#46039f"
            ],
            [
             0.2222222222222222,
             "#7201a8"
            ],
            [
             0.3333333333333333,
             "#9c179e"
            ],
            [
             0.4444444444444444,
             "#bd3786"
            ],
            [
             0.5555555555555556,
             "#d8576b"
            ],
            [
             0.6666666666666666,
             "#ed7953"
            ],
            [
             0.7777777777777778,
             "#fb9f3a"
            ],
            [
             0.8888888888888888,
             "#fdca26"
            ],
            [
             1,
             "#f0f921"
            ]
           ]
          },
          "colorway": [
           "#636efa",
           "#EF553B",
           "#00cc96",
           "#ab63fa",
           "#FFA15A",
           "#19d3f3",
           "#FF6692",
           "#B6E880",
           "#FF97FF",
           "#FECB52"
          ],
          "font": {
           "color": "#2a3f5f"
          },
          "geo": {
           "bgcolor": "white",
           "lakecolor": "white",
           "landcolor": "white",
           "showlakes": true,
           "showland": true,
           "subunitcolor": "#C8D4E3"
          },
          "hoverlabel": {
           "align": "left"
          },
          "hovermode": "closest",
          "mapbox": {
           "style": "light"
          },
          "paper_bgcolor": "white",
          "plot_bgcolor": "white",
          "polar": {
           "angularaxis": {
            "gridcolor": "#EBF0F8",
            "linecolor": "#EBF0F8",
            "ticks": ""
           },
           "bgcolor": "white",
           "radialaxis": {
            "gridcolor": "#EBF0F8",
            "linecolor": "#EBF0F8",
            "ticks": ""
           }
          },
          "scene": {
           "xaxis": {
            "backgroundcolor": "white",
            "gridcolor": "#DFE8F3",
            "gridwidth": 2,
            "linecolor": "#EBF0F8",
            "showbackground": true,
            "ticks": "",
            "zerolinecolor": "#EBF0F8"
           },
           "yaxis": {
            "backgroundcolor": "white",
            "gridcolor": "#DFE8F3",
            "gridwidth": 2,
            "linecolor": "#EBF0F8",
            "showbackground": true,
            "ticks": "",
            "zerolinecolor": "#EBF0F8"
           },
           "zaxis": {
            "backgroundcolor": "white",
            "gridcolor": "#DFE8F3",
            "gridwidth": 2,
            "linecolor": "#EBF0F8",
            "showbackground": true,
            "ticks": "",
            "zerolinecolor": "#EBF0F8"
           }
          },
          "shapedefaults": {
           "line": {
            "color": "#2a3f5f"
           }
          },
          "ternary": {
           "aaxis": {
            "gridcolor": "#DFE8F3",
            "linecolor": "#A2B1C6",
            "ticks": ""
           },
           "baxis": {
            "gridcolor": "#DFE8F3",
            "linecolor": "#A2B1C6",
            "ticks": ""
           },
           "bgcolor": "white",
           "caxis": {
            "gridcolor": "#DFE8F3",
            "linecolor": "#A2B1C6",
            "ticks": ""
           }
          },
          "title": {
           "x": 0.05
          },
          "xaxis": {
           "automargin": true,
           "gridcolor": "#EBF0F8",
           "linecolor": "#EBF0F8",
           "ticks": "",
           "title": {
            "standoff": 15
           },
           "zerolinecolor": "#EBF0F8",
           "zerolinewidth": 2
          },
          "yaxis": {
           "automargin": true,
           "gridcolor": "#EBF0F8",
           "linecolor": "#EBF0F8",
           "ticks": "",
           "title": {
            "standoff": 15
           },
           "zerolinecolor": "#EBF0F8",
           "zerolinewidth": 2
          }
         }
        },
        "title": {
         "text": "plot"
        },
        "xaxis": {
         "title": {
          "text": "Time"
         }
        },
        "yaxis": {
         "autorange": "reversed",
         "tickmode": "array",
         "ticktext": [
          "Rank 1",
          "Rank 2"
         ],
         "tickvals": [
          1,
          2
         ],
         "title": {
          "text": "Ranking"
         }
        }
       }
      }
     },
     "metadata": {},
     "output_type": "display_data"
    }
   ],
   "source": [
    "def plotly_ranking(df_ranks, title):\n",
    "    df_ranksc = df_ranks.copy().dropna()\n",
    "    fig = go.Figure()\n",
    "    # Add a line to the figure for each series\n",
    "    for column in df_ranksc.columns:\n",
    "        fig.add_trace(go.Scatter(x=df_ranksc.index, y=df_ranksc[column], mode='lines+markers', name=column))\n",
    "\n",
    "    # Update the layout\n",
    "    fig.update_layout(\n",
    "        title=title,\n",
    "        xaxis_title='Time',\n",
    "        yaxis_title='Ranking',\n",
    "        yaxis=dict(\n",
    "            autorange='reversed',  # Reverse y-axis so that rank 1 appears at the top\n",
    "            tickmode='array',\n",
    "            tickvals=np.arange(1, len(df_ranksc.columns) + 1),\n",
    "            ticktext=[f\"Rank {i}\" for i in range(1, len(df_ranksc.columns) + 1)]\n",
    "        ),\n",
    "        template='plotly_white'\n",
    "    )\n",
    "\n",
    "    return fig\n",
    "\n",
    "plotly_ranking(df_residuals_mega.abs().rolling(5).mean().rank(ascending=True, axis=1), 'plot')"
   ]
  },
  {
   "cell_type": "code",
   "execution_count": 115,
   "metadata": {},
   "outputs": [
    {
     "data": {
      "text/html": [
       "<div>\n",
       "<style scoped>\n",
       "    .dataframe tbody tr th:only-of-type {\n",
       "        vertical-align: middle;\n",
       "    }\n",
       "\n",
       "    .dataframe tbody tr th {\n",
       "        vertical-align: top;\n",
       "    }\n",
       "\n",
       "    .dataframe thead th {\n",
       "        text-align: right;\n",
       "    }\n",
       "</style>\n",
       "<table border=\"1\" class=\"dataframe\">\n",
       "  <thead>\n",
       "    <tr style=\"text-align: right;\">\n",
       "      <th></th>\n",
       "      <th>0</th>\n",
       "      <th>1</th>\n",
       "    </tr>\n",
       "    <tr>\n",
       "      <th>Date</th>\n",
       "      <th></th>\n",
       "      <th></th>\n",
       "    </tr>\n",
       "  </thead>\n",
       "  <tbody>\n",
       "    <tr>\n",
       "      <th>2009-10-31</th>\n",
       "      <td>NaN</td>\n",
       "      <td>NaN</td>\n",
       "    </tr>\n",
       "    <tr>\n",
       "      <th>2009-11-30</th>\n",
       "      <td>NaN</td>\n",
       "      <td>NaN</td>\n",
       "    </tr>\n",
       "    <tr>\n",
       "      <th>2009-12-31</th>\n",
       "      <td>NaN</td>\n",
       "      <td>NaN</td>\n",
       "    </tr>\n",
       "    <tr>\n",
       "      <th>2010-01-31</th>\n",
       "      <td>NaN</td>\n",
       "      <td>NaN</td>\n",
       "    </tr>\n",
       "    <tr>\n",
       "      <th>2010-02-28</th>\n",
       "      <td>NaN</td>\n",
       "      <td>1.0</td>\n",
       "    </tr>\n",
       "    <tr>\n",
       "      <th>...</th>\n",
       "      <td>...</td>\n",
       "      <td>...</td>\n",
       "    </tr>\n",
       "    <tr>\n",
       "      <th>2023-06-30</th>\n",
       "      <td>1.0</td>\n",
       "      <td>2.0</td>\n",
       "    </tr>\n",
       "    <tr>\n",
       "      <th>2023-07-31</th>\n",
       "      <td>1.0</td>\n",
       "      <td>2.0</td>\n",
       "    </tr>\n",
       "    <tr>\n",
       "      <th>2023-08-31</th>\n",
       "      <td>1.0</td>\n",
       "      <td>2.0</td>\n",
       "    </tr>\n",
       "    <tr>\n",
       "      <th>2023-09-30</th>\n",
       "      <td>1.0</td>\n",
       "      <td>2.0</td>\n",
       "    </tr>\n",
       "    <tr>\n",
       "      <th>2023-10-31</th>\n",
       "      <td>1.0</td>\n",
       "      <td>2.0</td>\n",
       "    </tr>\n",
       "  </tbody>\n",
       "</table>\n",
       "<p>169 rows × 2 columns</p>\n",
       "</div>"
      ],
      "text/plain": [
       "              0    1\n",
       "Date                \n",
       "2009-10-31  NaN  NaN\n",
       "2009-11-30  NaN  NaN\n",
       "2009-12-31  NaN  NaN\n",
       "2010-01-31  NaN  NaN\n",
       "2010-02-28  NaN  1.0\n",
       "...         ...  ...\n",
       "2023-06-30  1.0  2.0\n",
       "2023-07-31  1.0  2.0\n",
       "2023-08-31  1.0  2.0\n",
       "2023-09-30  1.0  2.0\n",
       "2023-10-31  1.0  2.0\n",
       "\n",
       "[169 rows x 2 columns]"
      ]
     },
     "execution_count": 115,
     "metadata": {},
     "output_type": "execute_result"
    }
   ],
   "source": [
    "df_residuals_mega.abs().rolling(5).mean().rank(ascending=True, axis=1)"
   ]
  },
  {
   "cell_type": "code",
   "execution_count": 19,
   "metadata": {},
   "outputs": [
    {
     "data": {
      "text/plain": [
       "Date\n",
       "2000-01-31    153.900\n",
       "2000-02-29    153.000\n",
       "2000-03-31    153.000\n",
       "2000-04-30    154.000\n",
       "2000-05-31    155.400\n",
       "               ...   \n",
       "2023-06-30    198.746\n",
       "2023-07-31    196.086\n",
       "2023-08-31    193.671\n",
       "2023-09-30    188.772\n",
       "2023-10-31    188.772\n",
       "Name: CPI-U_SA_M, Length: 286, dtype: float64"
      ]
     },
     "execution_count": 19,
     "metadata": {},
     "output_type": "execute_result"
    }
   ],
   "source": [
    "target = 'CPI-U_SA_M'\n",
    "df_variables = deepcopy(model['df_transformed_lag'])\n",
    "df_variables['CPI-U_SA_M']"
   ]
  },
  {
   "cell_type": "code",
   "execution_count": 91,
   "metadata": {},
   "outputs": [
    {
     "data": {
      "text/html": [
       "<div>\n",
       "<style scoped>\n",
       "    .dataframe tbody tr th:only-of-type {\n",
       "        vertical-align: middle;\n",
       "    }\n",
       "\n",
       "    .dataframe tbody tr th {\n",
       "        vertical-align: top;\n",
       "    }\n",
       "\n",
       "    .dataframe thead th {\n",
       "        text-align: right;\n",
       "    }\n",
       "</style>\n",
       "<table border=\"1\" class=\"dataframe\">\n",
       "  <thead>\n",
       "    <tr style=\"text-align: right;\">\n",
       "      <th></th>\n",
       "      <th>residuals_70</th>\n",
       "      <th>residuals_90</th>\n",
       "    </tr>\n",
       "    <tr>\n",
       "      <th>Date</th>\n",
       "      <th></th>\n",
       "      <th></th>\n",
       "    </tr>\n",
       "  </thead>\n",
       "  <tbody>\n",
       "    <tr>\n",
       "      <th>2000-01-31</th>\n",
       "      <td>NaN</td>\n",
       "      <td>NaN</td>\n",
       "    </tr>\n",
       "    <tr>\n",
       "      <th>2000-02-29</th>\n",
       "      <td>NaN</td>\n",
       "      <td>NaN</td>\n",
       "    </tr>\n",
       "    <tr>\n",
       "      <th>2000-03-31</th>\n",
       "      <td>NaN</td>\n",
       "      <td>NaN</td>\n",
       "    </tr>\n",
       "    <tr>\n",
       "      <th>2000-04-30</th>\n",
       "      <td>NaN</td>\n",
       "      <td>NaN</td>\n",
       "    </tr>\n",
       "    <tr>\n",
       "      <th>2000-05-31</th>\n",
       "      <td>NaN</td>\n",
       "      <td>NaN</td>\n",
       "    </tr>\n",
       "    <tr>\n",
       "      <th>...</th>\n",
       "      <td>...</td>\n",
       "      <td>...</td>\n",
       "    </tr>\n",
       "    <tr>\n",
       "      <th>2023-06-30</th>\n",
       "      <td>-0.069390</td>\n",
       "      <td>-0.069397</td>\n",
       "    </tr>\n",
       "    <tr>\n",
       "      <th>2023-07-31</th>\n",
       "      <td>-0.039565</td>\n",
       "      <td>-0.039401</td>\n",
       "    </tr>\n",
       "    <tr>\n",
       "      <th>2023-08-31</th>\n",
       "      <td>-0.010217</td>\n",
       "      <td>-0.010024</td>\n",
       "    </tr>\n",
       "    <tr>\n",
       "      <th>2023-09-30</th>\n",
       "      <td>0.025737</td>\n",
       "      <td>0.025850</td>\n",
       "    </tr>\n",
       "    <tr>\n",
       "      <th>2023-10-31</th>\n",
       "      <td>0.021923</td>\n",
       "      <td>0.021974</td>\n",
       "    </tr>\n",
       "  </tbody>\n",
       "</table>\n",
       "<p>286 rows × 2 columns</p>\n",
       "</div>"
      ],
      "text/plain": [
       "            residuals_70  residuals_90\n",
       "Date                                  \n",
       "2000-01-31           NaN           NaN\n",
       "2000-02-29           NaN           NaN\n",
       "2000-03-31           NaN           NaN\n",
       "2000-04-30           NaN           NaN\n",
       "2000-05-31           NaN           NaN\n",
       "...                  ...           ...\n",
       "2023-06-30     -0.069390     -0.069397\n",
       "2023-07-31     -0.039565     -0.039401\n",
       "2023-08-31     -0.010217     -0.010024\n",
       "2023-09-30      0.025737      0.025850\n",
       "2023-10-31      0.021923      0.021974\n",
       "\n",
       "[286 rows x 2 columns]"
      ]
     },
     "execution_count": 91,
     "metadata": {},
     "output_type": "execute_result"
    }
   ],
   "source": [
    "model['df_coefs_dict']['residuals']"
   ]
  },
  {
   "cell_type": "code",
   "execution_count": 49,
   "metadata": {},
   "outputs": [
    {
     "data": {
      "text/html": [
       "<div>\n",
       "<style scoped>\n",
       "    .dataframe tbody tr th:only-of-type {\n",
       "        vertical-align: middle;\n",
       "    }\n",
       "\n",
       "    .dataframe tbody tr th {\n",
       "        vertical-align: top;\n",
       "    }\n",
       "\n",
       "    .dataframe thead th {\n",
       "        text-align: right;\n",
       "    }\n",
       "</style>\n",
       "<table border=\"1\" class=\"dataframe\">\n",
       "  <thead>\n",
       "    <tr style=\"text-align: right;\">\n",
       "      <th></th>\n",
       "      <th>PPI_Passenger_Cars_M</th>\n",
       "      <th>PPI_Passenger_Cars_M_pct_change_3period</th>\n",
       "      <th>PPI_Passenger_Cars_M_natlag1</th>\n",
       "      <th>PPI_Passenger_Cars_M_pct_change_3period_natlag1</th>\n",
       "    </tr>\n",
       "    <tr>\n",
       "      <th>Date</th>\n",
       "      <th></th>\n",
       "      <th></th>\n",
       "      <th></th>\n",
       "      <th></th>\n",
       "    </tr>\n",
       "  </thead>\n",
       "  <tbody>\n",
       "    <tr>\n",
       "      <th>2000-01-31</th>\n",
       "      <td>133.400</td>\n",
       "      <td>NaN</td>\n",
       "      <td>NaN</td>\n",
       "      <td>NaN</td>\n",
       "    </tr>\n",
       "    <tr>\n",
       "      <th>2000-02-29</th>\n",
       "      <td>132.700</td>\n",
       "      <td>NaN</td>\n",
       "      <td>133.400</td>\n",
       "      <td>NaN</td>\n",
       "    </tr>\n",
       "    <tr>\n",
       "      <th>2000-03-31</th>\n",
       "      <td>132.700</td>\n",
       "      <td>NaN</td>\n",
       "      <td>132.700</td>\n",
       "      <td>NaN</td>\n",
       "    </tr>\n",
       "    <tr>\n",
       "      <th>2000-04-30</th>\n",
       "      <td>132.800</td>\n",
       "      <td>-0.004498</td>\n",
       "      <td>132.700</td>\n",
       "      <td>NaN</td>\n",
       "    </tr>\n",
       "    <tr>\n",
       "      <th>2000-05-31</th>\n",
       "      <td>133.500</td>\n",
       "      <td>0.006029</td>\n",
       "      <td>132.800</td>\n",
       "      <td>-0.004498</td>\n",
       "    </tr>\n",
       "    <tr>\n",
       "      <th>...</th>\n",
       "      <td>...</td>\n",
       "      <td>...</td>\n",
       "      <td>...</td>\n",
       "      <td>...</td>\n",
       "    </tr>\n",
       "    <tr>\n",
       "      <th>2023-06-30</th>\n",
       "      <td>139.972</td>\n",
       "      <td>-0.018085</td>\n",
       "      <td>141.025</td>\n",
       "      <td>-0.014645</td>\n",
       "    </tr>\n",
       "    <tr>\n",
       "      <th>2023-07-31</th>\n",
       "      <td>140.277</td>\n",
       "      <td>-0.008040</td>\n",
       "      <td>139.972</td>\n",
       "      <td>-0.018085</td>\n",
       "    </tr>\n",
       "    <tr>\n",
       "      <th>2023-08-31</th>\n",
       "      <td>140.669</td>\n",
       "      <td>-0.002524</td>\n",
       "      <td>140.277</td>\n",
       "      <td>-0.008040</td>\n",
       "    </tr>\n",
       "    <tr>\n",
       "      <th>2023-09-30</th>\n",
       "      <td>140.831</td>\n",
       "      <td>0.006137</td>\n",
       "      <td>140.669</td>\n",
       "      <td>-0.002524</td>\n",
       "    </tr>\n",
       "    <tr>\n",
       "      <th>2023-10-31</th>\n",
       "      <td>140.831</td>\n",
       "      <td>0.003949</td>\n",
       "      <td>140.831</td>\n",
       "      <td>0.006137</td>\n",
       "    </tr>\n",
       "  </tbody>\n",
       "</table>\n",
       "<p>286 rows × 4 columns</p>\n",
       "</div>"
      ],
      "text/plain": [
       "            PPI_Passenger_Cars_M  PPI_Passenger_Cars_M_pct_change_3period  \\\n",
       "Date                                                                        \n",
       "2000-01-31               133.400                                      NaN   \n",
       "2000-02-29               132.700                                      NaN   \n",
       "2000-03-31               132.700                                      NaN   \n",
       "2000-04-30               132.800                                -0.004498   \n",
       "2000-05-31               133.500                                 0.006029   \n",
       "...                          ...                                      ...   \n",
       "2023-06-30               139.972                                -0.018085   \n",
       "2023-07-31               140.277                                -0.008040   \n",
       "2023-08-31               140.669                                -0.002524   \n",
       "2023-09-30               140.831                                 0.006137   \n",
       "2023-10-31               140.831                                 0.003949   \n",
       "\n",
       "            PPI_Passenger_Cars_M_natlag1  \\\n",
       "Date                                       \n",
       "2000-01-31                           NaN   \n",
       "2000-02-29                       133.400   \n",
       "2000-03-31                       132.700   \n",
       "2000-04-30                       132.700   \n",
       "2000-05-31                       132.800   \n",
       "...                                  ...   \n",
       "2023-06-30                       141.025   \n",
       "2023-07-31                       139.972   \n",
       "2023-08-31                       140.277   \n",
       "2023-09-30                       140.669   \n",
       "2023-10-31                       140.831   \n",
       "\n",
       "            PPI_Passenger_Cars_M_pct_change_3period_natlag1  \n",
       "Date                                                         \n",
       "2000-01-31                                              NaN  \n",
       "2000-02-29                                              NaN  \n",
       "2000-03-31                                              NaN  \n",
       "2000-04-30                                              NaN  \n",
       "2000-05-31                                        -0.004498  \n",
       "...                                                     ...  \n",
       "2023-06-30                                        -0.014645  \n",
       "2023-07-31                                        -0.018085  \n",
       "2023-08-31                                        -0.008040  \n",
       "2023-09-30                                        -0.002524  \n",
       "2023-10-31                                         0.006137  \n",
       "\n",
       "[286 rows x 4 columns]"
      ]
     },
     "execution_count": 49,
     "metadata": {},
     "output_type": "execute_result"
    }
   ],
   "source": [
    "df_variables.filter(regex='PPI_Passe')"
   ]
  },
  {
   "cell_type": "code",
   "execution_count": 85,
   "metadata": {},
   "outputs": [
    {
     "data": {
      "text/plain": [
       "['PPI_Passenger_Cars_M_pct_change_3period_natlag1',\n",
       " 'PPI_Used_Vehicles_M_pct_change_3period_natlag1']"
      ]
     },
     "execution_count": 85,
     "metadata": {},
     "output_type": "execute_result"
    }
   ],
   "source": [
    "model['selected_x_variables']"
   ]
  },
  {
   "cell_type": "code",
   "execution_count": 20,
   "metadata": {},
   "outputs": [
    {
     "data": {
      "text/html": [
       "<div>\n",
       "<style scoped>\n",
       "    .dataframe tbody tr th:only-of-type {\n",
       "        vertical-align: middle;\n",
       "    }\n",
       "\n",
       "    .dataframe tbody tr th {\n",
       "        vertical-align: top;\n",
       "    }\n",
       "\n",
       "    .dataframe thead th {\n",
       "        text-align: right;\n",
       "    }\n",
       "</style>\n",
       "<table border=\"1\" class=\"dataframe\">\n",
       "  <thead>\n",
       "    <tr style=\"text-align: right;\">\n",
       "      <th></th>\n",
       "      <th>predictions_70</th>\n",
       "      <th>predictions_90</th>\n",
       "    </tr>\n",
       "    <tr>\n",
       "      <th>Date</th>\n",
       "      <th></th>\n",
       "      <th></th>\n",
       "    </tr>\n",
       "  </thead>\n",
       "  <tbody>\n",
       "    <tr>\n",
       "      <th>2015-05-31</th>\n",
       "      <td>-0.002189</td>\n",
       "      <td>-0.000983</td>\n",
       "    </tr>\n",
       "    <tr>\n",
       "      <th>2015-06-30</th>\n",
       "      <td>-0.000596</td>\n",
       "      <td>-0.000205</td>\n",
       "    </tr>\n",
       "    <tr>\n",
       "      <th>2015-07-31</th>\n",
       "      <td>0.000732</td>\n",
       "      <td>0.000211</td>\n",
       "    </tr>\n",
       "    <tr>\n",
       "      <th>2015-08-31</th>\n",
       "      <td>0.001821</td>\n",
       "      <td>0.000361</td>\n",
       "    </tr>\n",
       "    <tr>\n",
       "      <th>2015-09-30</th>\n",
       "      <td>0.002596</td>\n",
       "      <td>0.000346</td>\n",
       "    </tr>\n",
       "    <tr>\n",
       "      <th>...</th>\n",
       "      <td>...</td>\n",
       "      <td>...</td>\n",
       "    </tr>\n",
       "    <tr>\n",
       "      <th>2023-06-30</th>\n",
       "      <td>0.016298</td>\n",
       "      <td>0.016291</td>\n",
       "    </tr>\n",
       "    <tr>\n",
       "      <th>2023-07-31</th>\n",
       "      <td>-0.014005</td>\n",
       "      <td>-0.013841</td>\n",
       "    </tr>\n",
       "    <tr>\n",
       "      <th>2023-08-31</th>\n",
       "      <td>-0.040145</td>\n",
       "      <td>-0.039952</td>\n",
       "    </tr>\n",
       "    <tr>\n",
       "      <th>2023-09-30</th>\n",
       "      <td>-0.024448</td>\n",
       "      <td>-0.024335</td>\n",
       "    </tr>\n",
       "    <tr>\n",
       "      <th>2023-10-31</th>\n",
       "      <td>-0.015377</td>\n",
       "      <td>-0.015326</td>\n",
       "    </tr>\n",
       "  </tbody>\n",
       "</table>\n",
       "<p>102 rows × 2 columns</p>\n",
       "</div>"
      ],
      "text/plain": [
       "            predictions_70  predictions_90\n",
       "Date                                      \n",
       "2015-05-31       -0.002189       -0.000983\n",
       "2015-06-30       -0.000596       -0.000205\n",
       "2015-07-31        0.000732        0.000211\n",
       "2015-08-31        0.001821        0.000361\n",
       "2015-09-30        0.002596        0.000346\n",
       "...                    ...             ...\n",
       "2023-06-30        0.016298        0.016291\n",
       "2023-07-31       -0.014005       -0.013841\n",
       "2023-08-31       -0.040145       -0.039952\n",
       "2023-09-30       -0.024448       -0.024335\n",
       "2023-10-31       -0.015377       -0.015326\n",
       "\n",
       "[102 rows x 2 columns]"
      ]
     },
     "execution_count": 20,
     "metadata": {},
     "output_type": "execute_result"
    }
   ],
   "source": [
    "df_predictions = deepcopy(model['df_coefs_dict']['predictions']).dropna()\n",
    "df_predictions"
   ]
  },
  {
   "cell_type": "code",
   "execution_count": 29,
   "metadata": {},
   "outputs": [],
   "source": [
    "import matplotlib.pyplot as plt"
   ]
  },
  {
   "cell_type": "code",
   "execution_count": 42,
   "metadata": {},
   "outputs": [
    {
     "data": {
      "text/plain": [
       "<Axes: xlabel='Date'>"
      ]
     },
     "execution_count": 42,
     "metadata": {},
     "output_type": "execute_result"
    },
    {
     "data": {
      "image/png": "[encoded data removed]",
      "text/plain": [
       "<Figure size 640x480 with 1 Axes>"
      ]
     },
     "metadata": {},
     "output_type": "display_data"
    }
   ],
   "source": [
    "df_predictions_and_target = pd.concat([df_predictions, df_variables[target]], axis=1).dropna()\n",
    "shift = 3\n",
    "df_predictions_and_target['target'] = df_variables[model['selected_target']]\n",
    "df_predictions_and_target['index_implied_pred_70'] = df_predictions_and_target['CPI-U_SA_M']*(1+df_predictions_and_target['predictions_70']).shift(shift)\n",
    "df_predictions_and_target['index_implied_pred_90'] = df_predictions_and_target['CPI-U_SA_M']*(1+df_predictions_and_target['predictions_90']).shift(shift)\n",
    "f = plt.figure()\n",
    "df_predictions_and_target[target].plot(ax=f.gca())\n",
    "df_predictions_and_target[['index_implied_pred_70', 'index_implied_pred_90']].plot(ax=f.gca())\n"
   ]
  },
  {
   "cell_type": "code",
   "execution_count": 149,
   "metadata": {},
   "outputs": [
    {
     "data": {
      "text/plain": [
       "<Axes: xlabel='Date'>"
      ]
     },
     "execution_count": 149,
     "metadata": {},
     "output_type": "execute_result"
    },
    {
     "data": {
      "image/png": "[encoded data removed]",
      "text/plain": [
       "<Figure size 640x480 with 1 Axes>"
      ]
     },
     "metadata": {},
     "output_type": "display_data"
    }
   ],
   "source": [
    "df_predictions_and_target.filter(regex='predi').shift(1).mul(df_predictions_and_target[target].pct_change()*100, axis='index').cumsum().plot()\n"
   ]
  },
  {
   "cell_type": "code",
   "execution_count": 45,
   "metadata": {},
   "outputs": [
    {
     "data": {
      "text/plain": [
       "<Axes: xlabel='Date'>"
      ]
     },
     "execution_count": 45,
     "metadata": {},
     "output_type": "execute_result"
    },
    {
     "data": {
      "image/png": "[encoded data removed]",
      "text/plain": [
       "<Figure size 640x480 with 1 Axes>"
      ]
     },
     "metadata": {},
     "output_type": "display_data"
    }
   ],
   "source": [
    "df_predictions_and_target[['target', 'predictions_70', 'predictions_90']].plot()"
   ]
  },
  {
   "cell_type": "code",
   "execution_count": 47,
   "metadata": {},
   "outputs": [
    {
     "data": {
      "text/plain": [
       "<Axes: xlabel='Date'>"
      ]
     },
     "execution_count": 47,
     "metadata": {},
     "output_type": "execute_result"
    },
    {
     "data": {
      "image/png": "[encoded data removed]",
      "text/plain": [
       "<Figure size 640x480 with 1 Axes>"
      ]
     },
     "metadata": {},
     "output_type": "display_data"
    }
   ],
   "source": [
    "f = plt.figure()\n",
    "df_predictions_and_target['target'].plot(ax=f.gca())\n",
    "df_predictions_and_target[['predictions_70', 'predictions_90']].plot(ax=f.gca())"
   ]
  },
  {
   "cell_type": "code",
   "execution_count": 50,
   "metadata": {},
   "outputs": [],
   "source": [
    "from sklearn.metrics import mean_squared_error, mean_absolute_error, r2_score\n"
   ]
  },
  {
   "cell_type": "code",
   "execution_count": 84,
   "metadata": {},
   "outputs": [
    {
     "data": {
      "text/html": [
       "<div>\n",
       "<style scoped>\n",
       "    .dataframe tbody tr th:only-of-type {\n",
       "        vertical-align: middle;\n",
       "    }\n",
       "\n",
       "    .dataframe tbody tr th {\n",
       "        vertical-align: top;\n",
       "    }\n",
       "\n",
       "    .dataframe thead th {\n",
       "        text-align: right;\n",
       "    }\n",
       "</style>\n",
       "<table border=\"1\" class=\"dataframe\">\n",
       "  <thead>\n",
       "    <tr style=\"text-align: right;\">\n",
       "      <th></th>\n",
       "      <th>metrics</th>\n",
       "      <th>model</th>\n",
       "      <th>value</th>\n",
       "    </tr>\n",
       "  </thead>\n",
       "  <tbody>\n",
       "    <tr>\n",
       "      <th>0</th>\n",
       "      <td>r2</td>\n",
       "      <td>predictions_70</td>\n",
       "      <td>0.569746</td>\n",
       "    </tr>\n",
       "    <tr>\n",
       "      <th>1</th>\n",
       "      <td>r2</td>\n",
       "      <td>predictions_90</td>\n",
       "      <td>0.547114</td>\n",
       "    </tr>\n",
       "    <tr>\n",
       "      <th>2</th>\n",
       "      <td>mse</td>\n",
       "      <td>predictions_70</td>\n",
       "      <td>0.001161</td>\n",
       "    </tr>\n",
       "    <tr>\n",
       "      <th>3</th>\n",
       "      <td>mse</td>\n",
       "      <td>predictions_90</td>\n",
       "      <td>0.001222</td>\n",
       "    </tr>\n",
       "    <tr>\n",
       "      <th>4</th>\n",
       "      <td>mae</td>\n",
       "      <td>predictions_70</td>\n",
       "      <td>0.020426</td>\n",
       "    </tr>\n",
       "    <tr>\n",
       "      <th>5</th>\n",
       "      <td>mae</td>\n",
       "      <td>predictions_90</td>\n",
       "      <td>0.020685</td>\n",
       "    </tr>\n",
       "    <tr>\n",
       "      <th>6</th>\n",
       "      <td>corr</td>\n",
       "      <td>predictions_70</td>\n",
       "      <td>0.863449</td>\n",
       "    </tr>\n",
       "    <tr>\n",
       "      <th>7</th>\n",
       "      <td>corr</td>\n",
       "      <td>predictions_90</td>\n",
       "      <td>0.856833</td>\n",
       "    </tr>\n",
       "  </tbody>\n",
       "</table>\n",
       "</div>"
      ],
      "text/plain": [
       "  metrics           model     value\n",
       "0      r2  predictions_70  0.569746\n",
       "1      r2  predictions_90  0.547114\n",
       "2     mse  predictions_70  0.001161\n",
       "3     mse  predictions_90  0.001222\n",
       "4     mae  predictions_70  0.020426\n",
       "5     mae  predictions_90  0.020685\n",
       "6    corr  predictions_70  0.863449\n",
       "7    corr  predictions_90  0.856833"
      ]
     },
     "execution_count": 84,
     "metadata": {},
     "output_type": "execute_result"
    }
   ],
   "source": [
    "y_pred = model['df_coefs_dict']['predictions'].dropna()\n",
    "y_true = model['df_transformed_lag'][model['selected_target']]\n",
    "stats = [('r2', col, r2_score(y_true.loc[y_pred.index].values, y_pred[col])) for col in y_pred.columns]  + \\\n",
    "    [('mse', col, mean_squared_error(y_true.loc[y_pred.index].values, y_pred[col])) for col in y_pred.columns] + \\\n",
    "    [('mae', col, mean_absolute_error(y_true.loc[y_pred.index].values, y_pred[col])) for col in y_pred.columns] + \\\n",
    "    [('corr', col, np.corrcoef(y_true.loc[y_pred.index].values, y_pred[col].values)[0][1]) for col in y_pred.columns]\n",
    "    \n",
    "df_stats = pd.DataFrame(stats, columns=['metrics', 'model', 'value'])\n",
    "df_stats"
   ]
  },
  {
   "cell_type": "code",
   "execution_count": 79,
   "metadata": {},
   "outputs": [
    {
     "data": {
      "text/plain": [
       "0.8634494374841277"
      ]
     },
     "execution_count": 79,
     "metadata": {},
     "output_type": "execute_result"
    }
   ],
   "source": [
    "np.corrcoef(y_true.loc[y_pred.index].values, y_pred['predictions_70'].values)[0][1]"
   ]
  },
  {
   "cell_type": "code",
   "execution_count": null,
   "metadata": {},
   "outputs": [],
   "source": [
    "np.correlate()"
   ]
  }
 ],
 "metadata": {
  "kernelspec": {
   "display_name": "regtool",
   "language": "python",
   "name": "python3"
  },
  "language_info": {
   "codemirror_mode": {
    "name": "ipython",
    "version": 3
   },
   "file_extension": ".py",
   "mimetype": "text/x-python",
   "name": "python",
   "nbconvert_exporter": "python",
   "pygments_lexer": "ipython3",
   "version": "3.10.13"
  }
 },
 "nbformat": 4,
 "nbformat_minor": 2
}
